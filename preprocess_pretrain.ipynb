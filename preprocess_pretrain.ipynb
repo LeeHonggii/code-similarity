{
  "cells": [
    {
      "cell_type": "code",
      "execution_count": null,
      "id": "ad67e4e5",
      "metadata": {
        "id": "ad67e4e5"
      },
      "outputs": [],
      "source": [
        "import io, ast, re, hashlib, tokenize, builtins, pandas as pd, warnings, black\n",
        "from typing import Dict, List, Set\n",
        "\n",
        "# SyntaxWarning (예: invalid escape sequence) 억제\n",
        "warnings.filterwarnings(\"ignore\", category=SyntaxWarning)"
      ]
    },
    {
      "cell_type": "code",
      "execution_count": null,
      "id": "4bc2817e",
      "metadata": {
        "id": "4bc2817e"
      },
      "outputs": [],
      "source": [
        "# -----------------------------\n",
        "# 1) 주석 제거\n",
        "# -----------------------------\n",
        "def remove_comments(code: str) -> str:\n",
        "    try:\n",
        "        tokgen = tokenize.generate_tokens(io.StringIO(code).readline)\n",
        "        out_tokens = [(tt, ts) for tt, ts, *_ in tokgen if tt != tokenize.COMMENT]\n",
        "        return tokenize.untokenize(out_tokens)\n",
        "    except Exception:\n",
        "        stripped_lines = []\n",
        "        for ln in code.splitlines():\n",
        "            idx = ln.find(\"#\")\n",
        "            if idx != -1:\n",
        "                prefix = ln[:idx]\n",
        "                if prefix.count('\"') % 2 == 0 and prefix.count(\"'\") % 2 == 0:\n",
        "                    ln = prefix.rstrip()\n",
        "            stripped_lines.append(ln)\n",
        "        return \"\\n\".join(stripped_lines)"
      ]
    },
    {
      "cell_type": "code",
      "execution_count": null,
      "id": "b2a74f0a",
      "metadata": {
        "id": "b2a74f0a"
      },
      "outputs": [],
      "source": [
        "# -----------------------------\n",
        "# 2) AST 기반 스코프 일관 치환\n",
        "# -----------------------------\n",
        "_BUILTINS: Set[str] = set(dir(builtins))\n",
        "\n",
        "\n",
        "class Scope:\n",
        "    def __init__(self, kind: str):\n",
        "        self.kind = kind\n",
        "        self.map: Dict[str, str] = {}\n",
        "        self.counter_var = 0\n",
        "        self.counter_global = 0\n",
        "        self.protected: Set[str] = set()\n",
        "\n",
        "    def new_var(self):\n",
        "        self.counter_var += 1\n",
        "        return f\"v{self.counter_var}\"\n",
        "\n",
        "    def new_global(self):\n",
        "        self.counter_global += 1\n",
        "        return f\"g{self.counter_global}\"\n",
        "\n",
        "\n",
        "class AlphaRenamer(ast.NodeTransformer):\n",
        "    def __init__(self):\n",
        "        super().__init__()\n",
        "        self.scopes: List[Scope] = [Scope(\"module\")]\n",
        "        self.func_counter = 0\n",
        "        self.cls_counter = 0\n",
        "\n",
        "    @property\n",
        "    def scope(self):\n",
        "        return self.scopes[-1]\n",
        "\n",
        "    def push(self, kind):\n",
        "        self.scopes.append(Scope(kind))\n",
        "\n",
        "    def pop(self):\n",
        "        self.scopes.pop()\n",
        "\n",
        "    def _protect_name(self, name):\n",
        "        self.scope.protected.add(name)\n",
        "\n",
        "    def _is_protected(self, name):\n",
        "        if name in _BUILTINS:\n",
        "            return True\n",
        "        return any(name in sc.protected for sc in reversed(self.scopes))\n",
        "\n",
        "    def _lookup(self, name):\n",
        "        for sc in reversed(self.scopes):\n",
        "            if name in sc.map:\n",
        "                return sc.map[name]\n",
        "        return name\n",
        "\n",
        "    def _ensure_binding(self, name, is_module_level=False, allow_protected=False):\n",
        "        if not allow_protected and self._is_protected(name):\n",
        "            return name\n",
        "        if name in self.scope.map:\n",
        "            return self.scope.map[name]\n",
        "        alias = (\n",
        "            self.scope.new_global()\n",
        "            if (self.scope.kind == \"module\" and is_module_level)\n",
        "            else self.scope.new_var()\n",
        "        )\n",
        "        self.scope.map[name] = alias\n",
        "        return alias\n",
        "\n",
        "    def visit_Name(self, node):\n",
        "        if isinstance(node.ctx, (ast.Store, ast.Del)):\n",
        "            alias = self._ensure_binding(\n",
        "                node.id,\n",
        "                is_module_level=(self.scope.kind == \"module\"),\n",
        "                allow_protected=True,\n",
        "            )\n",
        "            return ast.copy_location(ast.Name(id=alias, ctx=node.ctx), node)\n",
        "        else:\n",
        "            if self._is_protected(node.id):\n",
        "                return node\n",
        "            alias = self._lookup(node.id)\n",
        "            return ast.copy_location(ast.Name(id=alias, ctx=node.ctx), node)\n",
        "\n",
        "    def visit_Import(self, node):\n",
        "        for alias in node.names:\n",
        "            name = alias.asname or alias.name.split(\".\")[0]\n",
        "            self._protect_name(name)\n",
        "        return node\n",
        "\n",
        "    def visit_ImportFrom(self, node):\n",
        "        for alias in node.names:\n",
        "            name = alias.asname or alias.name\n",
        "            self._protect_name(name)\n",
        "        return node\n",
        "\n",
        "    def visit_FunctionDef(self, node):\n",
        "        self.func_counter += 1\n",
        "        node.name = f\"func{self.func_counter}\"\n",
        "        self.push(\"function\")\n",
        "        for arg in node.args.posonlyargs + node.args.args + node.args.kwonlyargs:\n",
        "            arg.arg = self._ensure_binding(arg.arg, allow_protected=True)\n",
        "        if node.args.vararg:\n",
        "            node.args.vararg.arg = self._ensure_binding(\n",
        "                node.args.vararg.arg, allow_protected=True\n",
        "            )\n",
        "        if node.args.kwarg:\n",
        "            node.args.kwarg.arg = self._ensure_binding(\n",
        "                node.args.kwarg.arg, allow_protected=True\n",
        "            )\n",
        "        self.generic_visit(node)\n",
        "        self.pop()\n",
        "        return node\n",
        "\n",
        "    def visit_ClassDef(self, node):\n",
        "        self.cls_counter += 1\n",
        "        node.name = f\"Cls{self.cls_counter}\"\n",
        "        self.push(\"class\")\n",
        "        self.generic_visit(node)\n",
        "        self.pop()\n",
        "        return node\n",
        "\n",
        "    def _bind_target(self, target, is_module_level=False):\n",
        "        if isinstance(target, ast.Name):\n",
        "            self._ensure_binding(\n",
        "                target.id, is_module_level=is_module_level, allow_protected=True\n",
        "            )\n",
        "        elif isinstance(target, (ast.Tuple, ast.List)):\n",
        "            for elt in target.elts:\n",
        "                self._bind_target(elt, is_module_level=is_module_level)\n",
        "\n",
        "    def visit_Assign(self, node):\n",
        "        self.generic_visit(node.value)\n",
        "        for t in node.targets:\n",
        "            self._bind_target(t, is_module_level=(self.scope.kind == \"module\"))\n",
        "            self.visit(t)\n",
        "        return node\n",
        "\n",
        "    def visit_Attribute(self, node):\n",
        "        self.generic_visit(node.value)\n",
        "        return node\n",
        "\n",
        "\n",
        "def alpha_rename(code: str) -> str:\n",
        "    try:\n",
        "        tree = ast.parse(code)\n",
        "        tree = AlphaRenamer().visit(tree)\n",
        "        ast.fix_missing_locations(tree)\n",
        "        return ast.unparse(tree)\n",
        "    except Exception:\n",
        "        return code"
      ]
    },
    {
      "cell_type": "code",
      "execution_count": null,
      "id": "dfaf57f5",
      "metadata": {
        "id": "dfaf57f5"
      },
      "outputs": [],
      "source": [
        "# -----------------------------\n",
        "# 3) 전처리 파이프라인 (black 마지막에 1회)\n",
        "# -----------------------------\n",
        "def normalize_identifiers(code: str) -> str:\n",
        "    # 1. 주석 제거\n",
        "    code = remove_comments(code)\n",
        "    # 2. 변수명/함수명 등 익명화\n",
        "    code = alpha_rename(code)\n",
        "    # 3. 연속 개행을 1개로 줄임\n",
        "    code = re.sub(r\"\\n\\s*\\n+\", \"\\n\\n\", code)\n",
        "    # 4. 최종 포맷팅 (마지막에 적용)\n",
        "    try:\n",
        "        code = black.format_str(code, mode=black.Mode(line_length=88))\n",
        "    except Exception:\n",
        "        pass\n",
        "    return code\n"
      ]
    },
    {
      "cell_type": "code",
      "execution_count": null,
      "id": "37258d37",
      "metadata": {
        "id": "37258d37"
      },
      "outputs": [],
      "source": [
        "# -----------------------------\n",
        "# 4) DataFrame 단위 처리 + 중복 제거\n",
        "# -----------------------------\n",
        "def process_corpus(df: pd.DataFrame, text_col: str = \"text\") -> pd.DataFrame:\n",
        "    out = df.copy()\n",
        "    out[\"text_norm\"] = out[text_col].astype(str).apply(normalize_identifiers)\n",
        "    out[\"text_norm_sha1\"] = out[\"text_norm\"].apply(lambda s: hashlib.sha1(s.encode(\"utf-8\")).hexdigest())\n",
        "    out[\"n_chars_norm\"] = out[\"text_norm\"].str.len()\n",
        "    out[\"n_lines_norm\"] = out[\"text_norm\"].apply(lambda s: s.count(\"\\n\") + 1 if s else 0)\n",
        "\n",
        "    # ✅ 중복 제거 (정규화 후 동일 코드 제거)\n",
        "    before = len(out)\n",
        "    out = out.drop_duplicates(subset=[\"text_norm_sha1\"]).reset_index(drop=True)\n",
        "    after = len(out)\n",
        "    print(f\"[중복 제거 완료] {before - after}개 중복행 제거 ({after}/{before} 남음)\")\n",
        "\n",
        "    return out"
      ]
    },
    {
      "cell_type": "code",
      "execution_count": null,
      "id": "6e15a4ec",
      "metadata": {
        "id": "6e15a4ec"
      },
      "outputs": [],
      "source": [
        "corpus = pd.read_parquet(\"code_corpus.parquet\")"
      ]
    },
    {
      "cell_type": "code",
      "execution_count": null,
      "id": "742a3150",
      "metadata": {
        "id": "742a3150",
        "outputId": "35717d73-be52-4e30-a41d-46824b5e30c0"
      },
      "outputs": [
        {
          "name": "stdout",
          "output_type": "stream",
          "text": [
            "[중복 제거 완료] 604124개 중복행 제거 (2639300/3243424 남음)\n"
          ]
        }
      ],
      "source": [
        "corpus_processed = process_corpus(corpus, text_col='text')"
      ]
    },
    {
      "cell_type": "code",
      "execution_count": null,
      "id": "f4bc1427",
      "metadata": {
        "id": "f4bc1427"
      },
      "outputs": [],
      "source": [
        "corpus_processed.to_parquet(\"code_corpus_processed.parquet\" , index=False)"
      ]
    },
    {
      "cell_type": "code",
      "execution_count": null,
      "id": "7c336c3e",
      "metadata": {
        "id": "7c336c3e"
      },
      "outputs": [],
      "source": []
    }
  ],
  "metadata": {
    "language_info": {
      "name": "python"
    },
    "colab": {
      "provenance": []
    }
  },
  "nbformat": 4,
  "nbformat_minor": 5
}